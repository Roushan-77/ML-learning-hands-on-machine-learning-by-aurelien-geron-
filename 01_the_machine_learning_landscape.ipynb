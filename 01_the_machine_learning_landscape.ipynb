{
 "cells": [
  {
   "cell_type": "markdown",
   "id": "f53e8bc5-7837-460d-adaa-96395c743758",
   "metadata": {
    "jp-MarkdownHeadingCollapsed": true
   },
   "source": [
    "# why use ML"
   ]
  },
  {
   "cell_type": "markdown",
   "id": "0fdbe8d7-0ae1-4bac-84dd-ca313fb3359f",
   "metadata": {},
   "source": [
    "well some times it can get hard to write programme for anything we want to do as for an examle lets say we wanna filter out the spam mails that we recivied but how we gonna do it may be by observing a pattern that some key words are repating or anuthing else but at a moment we gonna find writting and anylazing every pattern and write it down and checkimg each one can lead to high time complexity and will also make our code long , so here comes our **Machine learning**"
   ]
  },
  {
   "cell_type": "markdown",
   "id": "68fde679-2572-464c-a041-7823d0cb52fd",
   "metadata": {},
   "source": [
    "---"
   ]
  },
  {
   "cell_type": "markdown",
   "id": "ea5e8f7b-defb-458d-8f68-a12189155dee",
   "metadata": {},
   "source": [
    "<u> Defn of ML</u>\n",
    "> field of study that gives computers the ability to learn without being explicitly programmed"
   ]
  },
  {
   "cell_type": "markdown",
   "id": "73e590b3-b850-4286-ac99-4713e695943e",
   "metadata": {},
   "source": [
    "<center> <b>OR</b> </center>"
   ]
  },
  {
   "cell_type": "markdown",
   "id": "cadafed5-db4b-416e-85cc-5b231d4f285b",
   "metadata": {},
   "source": [
    "> A computer proggramme is said to learn from experince E with respect to some task T and some performance measure P, if its performance on T, as measured by P, improves with experince E\n",
    "\n",
    "                                        -- tom mitchell"
   ]
  },
  {
   "cell_type": "markdown",
   "id": "e449a346-e7fe-4a7c-862f-b03b025446b0",
   "metadata": {},
   "source": [
    "as manually it's hard to do we can introduce a ml model which gonna filter out the spams more efficeintly and that will make the work more readable and accurate"
   ]
  },
  {
   "cell_type": "markdown",
   "id": "1675cb23-8827-45e9-a0ad-c48e4dcde059",
   "metadata": {},
   "source": [
    "---"
   ]
  },
  {
   "cell_type": "markdown",
   "id": "8424b25f-23a4-46df-908d-913acae28ecc",
   "metadata": {},
   "source": [
    "> **Data mining is the process of discovering patterns, trends, and useful information from large sets of data using statistical, mathematical, and machine learning techniques.**"
   ]
  },
  {
   "cell_type": "markdown",
   "id": "1047c3f0-96a0-44a4-a4ab-7ff98831f9fe",
   "metadata": {},
   "source": [
    "---"
   ]
  },
  {
   "cell_type": "markdown",
   "id": "0c3703dd-7c84-4a2b-bdd0-40c21ce9442e",
   "metadata": {},
   "source": [
    "<u><b> ML is great for </b></u>"
   ]
  },
  {
   "cell_type": "markdown",
   "id": "05c6aa1b-4f83-4ce5-baaf-be844b3a52a6",
   "metadata": {},
   "source": [
    "1. problems for which existing solutions require a lot of fine tunning or long lists of rules\n",
    "2. complex problems for which using a traditional approach yields no good solution.\n",
    "3. flutuating environment\n",
    "4. getting insghts about complex problems and large amounts of data"
   ]
  },
  {
   "cell_type": "markdown",
   "id": "0beecf92-85c4-4678-8841-1d9c883dd538",
   "metadata": {
    "jp-MarkdownHeadingCollapsed": true
   },
   "source": [
    "# Examples of Applications"
   ]
  },
  {
   "cell_type": "markdown",
   "id": "a0057c44-314f-4ac9-b07f-656e16298003",
   "metadata": {},
   "source": [
    "1. analyzing images of products on a production line to automatically classify them.\n",
    "2. Detecting tumors in brain\n",
    "3. Automatically classify news articles.\n",
    "4. Automatically flagging offensive comments on discussion forums\n",
    "5. Summerizing long documents automatically.\n",
    "6. Summerizing long documents automatically.\n",
    "7. Creating a chatbot or personal assistant.\n",
    "8. Forecasting your company's revenue next year, based on many performance metrices.\n",
    "9. Making your app to react on voice command.\n",
    "10. Detecting crediit card fraud.\n",
    "11. segmenting clients based on thier purchaces so that you can design a different marketing strategy for each segment.\n",
    "12. Representing a complex , high dimensional dataset in a clear and insightful diagrams.\n",
    "13. Recommending a product that client may be intrested in, based on past purchases.\n",
    "14. Building an intelligent bot for a game."
   ]
  },
  {
   "cell_type": "markdown",
   "id": "721e437e-06b0-453a-a33f-fc97ac94067c",
   "metadata": {},
   "source": [
    "# Types of Machine learnig systems"
   ]
  },
  {
   "cell_type": "markdown",
   "id": "06090e5c-d0b3-415b-9996-db1646208722",
   "metadata": {},
   "source": [
    "> <u>on the basis of supervison</u>:\n",
    "\n",
    "1. **Supervised**\n",
    "2. **unsupervised**\n",
    "3. **semi supervised**\n",
    "4. **self - supervised**\n",
    "\n",
    "> <u>online vs batch learning</u>\n",
    "\n",
    "> <u>instance based vs model based learning</u>"
   ]
  },
  {
   "cell_type": "markdown",
   "id": "7e32b312-997e-4f23-b6eb-69c4c5d45ee7",
   "metadata": {},
   "source": [
    "<div style=\"background-color:#ffcccc; padding:15px; border:2px solid red; border-radius:5px; color:#660000;\">\n",
    "  <strong>Note:</strong><br>\n",
    "  these methods are not specific and individual , they can be combined on the base of what kind of moddel we wanna build.\n",
    "</div>"
   ]
  },
  {
   "cell_type": "markdown",
   "id": "3306893f-8729-4efa-a2ed-75c5422a1058",
   "metadata": {
    "jp-MarkdownHeadingCollapsed": true
   },
   "source": [
    "## Traning supervision"
   ]
  },
  {
   "cell_type": "markdown",
   "id": "f0c92cd6-514a-4f6c-9eb3-9f79dbdfce58",
   "metadata": {
    "jp-MarkdownHeadingCollapsed": true
   },
   "source": [
    "### Supervised Learning"
   ]
  },
  {
   "cell_type": "markdown",
   "id": "94c79b12-b0e1-43bf-a383-e99c21a37c70",
   "metadata": {},
   "source": [
    "- **In `supervised learning`, the training set you feed to the algorithm includes the desired solutions called `labels`**"
   ]
  },
  {
   "cell_type": "markdown",
   "id": "11616c30-cdaa-4fcc-84d4-5f2e449e3c6f",
   "metadata": {},
   "source": [
    "- The words `target` and `labels` are genrally treated as synonyms in this but **`Target`** is more common in regression tasks and **`label`** is more common task.\n",
    "- moreever `features` are sometimes called as `predictors` or `attributtes`"
   ]
  },
  {
   "cell_type": "markdown",
   "id": "bf4ebd87-b680-4980-967e-128c0b053030",
   "metadata": {
    "jp-MarkdownHeadingCollapsed": true
   },
   "source": [
    "### Unsupervised Learning"
   ]
  },
  {
   "cell_type": "markdown",
   "id": "a74e1a25-9fec-4e74-b50c-4446aa1427fe",
   "metadata": {},
   "source": [
    "- The training data is **unlabeled** the system try to learn without a teacher.\n",
    "- **Hierarchical clustring algorithm** => A clustering method that builds a hierarchy of clusters by either merging smaller clusters (agglomerative) or splitting larger ones (divisive), usually visualized as a tree (dendrogram).\n",
    "- **Visualiztion algorithm** => An algorithm used to represent data graphically (e.g., charts, plots, maps) to help humans interpret complex datasets and patterns more easily.\n",
    "- **Dimensionality Reduction** => A technique to reduce the number of input variables in a dataset while preserving as much information as possible, commonly using methods like PCA or t-SNE.\n",
    "- **feature extraction** => The process of transforming raw data into a set of measurable characteristics (features) that better represent the data for tasks like classification or clustering.\n",
    "- **Anomaly Detection** => Anomaly detection is the process of identifying unusual or unexpected patterns in data that do not conform to expected behavior. These \"anomalies\" may indicate critical events like fraud, system failures, or cyberattacks.\n",
    "- **Novelty Detection** => Novelty detection is the task of identifying new or previously unseen patterns in data, typically after training a model only on normal (non-anomalous) data. It differs from anomaly detection by focusing specifically on detecting out-of-distribution data that was not present during training.\n",
    "- **Association Rule Learning** => Association rule learning is a machine learning technique used to discover interesting relationships, patterns, or associations among items in large datasets. It is widely used in market basket analysis to identify products frequently bought together."
   ]
  },
  {
   "cell_type": "markdown",
   "id": "3ac15441-5304-4fe3-8ede-c95b0dd86f20",
   "metadata": {},
   "source": [
    "| Feature                  | Anomaly Detection                                           | Novelty Detection                                           |\n",
    "|--------------------------|-------------------------------------------------------------|-------------------------------------------------------------|\n",
    "| **Training Data**        | Includes both normal and some anomalous/outlier data        | Trained only on normal (non-anomalous) data                 |\n",
    "| **Purpose**              | Detects any deviation, including known and unknown anomalies| Detects previously unseen (novel) deviations                 |\n",
    "| **Known Anomalies**      | Can learn from them during training                         | Assumes no access to anomalies during training              |\n",
    "| **Use Case**             | Real-time fraud detection, system monitoring                | Intrusion detection, identifying unknown failures           |\n",
    "| **Example Algorithms**   | Isolation Forest, One-Class SVM (with labels)               | One-Class SVM, Autoencoders (trained on normal only)        |\n"
   ]
  },
  {
   "cell_type": "markdown",
   "id": "da3c167c-638f-49e3-9b5c-050242bfaacd",
   "metadata": {},
   "source": [
    "<div style=\"background-color: #ffeeee; padding: 20px; border: 2px dashed red; border-radius: 10px;\" id=\"note1\" title=\"Red Note Box\">\n",
    "  <h4 style=\"color: darkred;\">Important Note</h4>\n",
    "  <p>It's said to good to reduce the dimensionality as it will make the algorithm to run faster and it will take less space in the disk and to perform better</p>\n",
    "</div>"
   ]
  },
  {
   "cell_type": "markdown",
   "id": "97d428cc-093f-4574-80fe-f0d57131d7db",
   "metadata": {
    "jp-MarkdownHeadingCollapsed": true
   },
   "source": [
    "### Semi-supervised Learning"
   ]
  },
  {
   "cell_type": "markdown",
   "id": "5077a9a7-ca7b-4a09-aa0a-f2eba607a07d",
   "metadata": {},
   "source": [
    "Semi-supervised learning is a type of machine learning that uses a small amount of labeled data and a large amount of unlabeled data to train models. It lies between supervised and unsupervised learning, helping improve performance when labeled data is limited or costly to obtain."
   ]
  },
  {
   "cell_type": "markdown",
   "id": "0129ec83-404a-417c-b932-a2b41684681a",
   "metadata": {
    "jp-MarkdownHeadingCollapsed": true
   },
   "source": [
    "### Self- Supervised Learning"
   ]
  },
  {
   "cell_type": "markdown",
   "id": "9b5253bf-c34b-43fe-865a-ba802a5435ad",
   "metadata": {},
   "source": [
    "Self-supervised learning teaches a model to learn patterns and features without human-labeled data, by creating tasks where the correct answers are known from the input data."
   ]
  },
  {
   "cell_type": "markdown",
   "id": "6ae8abd1-f817-4ffa-a6d8-5d3965a5b277",
   "metadata": {},
   "source": [
    "**Transfer Learning** - Instead of training a model from scratch, you start with a pre-trained model and adapt it to your new problem."
   ]
  },
  {
   "cell_type": "markdown",
   "id": "7a8dd661-7ed9-4070-a63c-f4dbfc593f15",
   "metadata": {},
   "source": [
    "| Feature                | Supervised Learning                     | Unsupervised Learning                     | Self-supervised Learning                           |\n",
    "|------------------------|----------------------------------------|-------------------------------------------|-----------------------------------------------------|\n",
    "| Uses Labeled Data      | ✅ Yes                                 | ❌ No                                     | ❌ No                                                |\n",
    "| Uses Unlabeled Data    | ❌ No                                  | ✅ Yes                                    | ✅ Yes                                               |\n",
    "| Key Feature            | Learns from known labels               | Finds hidden structure/patterns          | Creates pseudo-labels from input data              |\n",
    "| How It Works           | Maps input to correct output using labels | Clusters or compresses data              | Predicts parts of data using other parts            |\n",
    "| Data Dependency        | Needs lots of labeled data             | Works with unlabeled data                | Uses unlabeled data with self-generated labels      |\n",
    "| Example Task           | Image classification, spam detection  | Customer segmentation, anomaly detection | Masked word prediction, image colorization          |\n",
    "| Training Efficiency    | Slower (labeling is expensive)         | Fast (no labels needed)                  | Efficient (no labels, uses clever pretext tasks)    |\n",
    "| Real-world Use Case    | Diagnosing diseases from X-rays        | Grouping users by behavior               | Pretraining models like BERT or GPT                 |\n"
   ]
  },
  {
   "cell_type": "markdown",
   "id": "38cfd812-4c89-4dd3-b3a6-d9b88bfa468d",
   "metadata": {
    "jp-MarkdownHeadingCollapsed": true
   },
   "source": [
    "### Reinforcement Learning"
   ]
  },
  {
   "cell_type": "markdown",
   "id": "c11e186e-f679-4384-8616-8776da36a845",
   "metadata": {},
   "source": [
    "Reinforcement Learning (RL) is a type of machine learning where an agent learns to make decisions by interacting with an environment. The goal is to learn a policy (a strategy for choosing actions) that maximizes cumulative reward over time."
   ]
  },
  {
   "cell_type": "markdown",
   "id": "b9f1bc98-2bf4-44c4-b65c-6f7c3388712e",
   "metadata": {},
   "source": [
    "| Concept                | Description                                          |\n",
    "| ---------------------- | ---------------------------------------------------- |\n",
    "| **Agent**              | The learner or decision-maker.                       |\n",
    "| **Environment**        | The world the agent interacts with.                  |\n",
    "| **Action (A)**         | The choices the agent can make.                      |\n",
    "| **State (S)**          | The current situation of the environment.            |\n",
    "| **Reward (R)**         | Feedback from the environment. Positive or negative. |\n",
    "| **Policy (π)**         | Strategy used by the agent to determine actions.     |\n",
    "| **Value Function (V)** | Predicts expected long-term return from a state.     |\n",
    "| **Q-Function (Q)**     | Predicts expected return for a state-action pair.    |\n"
   ]
  },
  {
   "cell_type": "markdown",
   "id": "aa280d1c-3aa5-4335-a713-041e83c1b96d",
   "metadata": {},
   "source": [
    "## Batch Versus Online Learning"
   ]
  },
  {
   "cell_type": "markdown",
   "id": "b8d08bf0-e0e5-405d-91c1-09e2fce9aa3d",
   "metadata": {
    "jp-MarkdownHeadingCollapsed": true
   },
   "source": [
    "### Batch Learning"
   ]
  },
  {
   "cell_type": "markdown",
   "id": "5da7124d-f186-4ecd-aaa8-0475e4ad66b7",
   "metadata": {},
   "source": [
    "- It's a kind of **Offline learning** as it can't learn incrementally.\n",
    "- These kind of models can be show-stopper as they can decay with time as of limited and set data.\n",
    "- these Models are trained 1st on specific dataset offline and then deployed to production line without any furthuer learning or traning.\n",
    "- It will decay maybe take time or not based on use case.\n",
    "                  - A model that detects img of dogs and cats will go over a quite period of time.\n",
    "                  - But a model to predict the stocks will decay easily.\n",
    "- It's better to use a model that can learn as updating it from scratch on daily or weekly basis gonna require a lot of time and resources."
   ]
  },
  {
   "cell_type": "markdown",
   "id": "836ef493-5ec7-4541-a66e-04aaa19801f4",
   "metadata": {},
   "source": [
    "### Online learning"
   ]
  },
  {
   "cell_type": "markdown",
   "id": "6d69dfc0-abff-444b-97d4-d80588ef9789",
   "metadata": {},
   "source": [
    "- In these kind of systems we train it incremenly by feeding it data or in small groups called `mini-batch`\n",
    "- Each learning step is fast and cheap.\n",
    "- Here we 1st train the model then launch and it keep training it on the kind of data we want.\n",
    "- **Out-of-core learning** => Out-of-core learning is a machine learning technique used to train models on datasets that are too large to fit into the computer's memory (RAM). Instead of loading the entire dataset at once, the algorithm processes the data in small chunks (batches) sequentially from disk.\n",
    "- **learning rate**- how fast you want your system to learn on any dataset. for example if you set the system on high rate it gonna run fast but will also lose old data fast too and on opp. hands if u set it on low it gonna learn slow and system gonna have more inertia meaing less sensetive to the noise in new data.\n",
    "- Here the only problem is the data that is given to the system as bad data can reduce the performance so one have to look closely on the data that is feeded and if he found any bad data and performance drop propmptly switch the learning off."
   ]
  },
  {
   "cell_type": "markdown",
   "id": "59e30983-8e29-4426-a91b-113f86496761",
   "metadata": {},
   "source": [
    "### Difference Between"
   ]
  },
  {
   "cell_type": "markdown",
   "id": "f57bfc1b-15ad-428c-9c71-ede2ad7158d1",
   "metadata": {},
   "source": [
    "| Feature                   | Batch Learning                               | Online Learning                              |\n",
    "|---------------------------|----------------------------------------------|----------------------------------------------|\n",
    "| Data Handling             | Entire dataset loaded at once                | Processes one sample or mini-batch at a time |\n",
    "| Memory Usage              | High (requires large memory)                 | Low (works with small memory)                |\n",
    "| Model Update              | Trained after seeing all data                | Continuously updated with new data           |\n",
    "| Suitable For              | Static, fixed-size datasets                  | Streaming or evolving data                   |\n",
    "| Training Time             | Longer (single pass or few passes over data) | Faster updates, especially in real time      |\n",
    "| Example Algorithms        | Linear Regression, Random Forest             | SGD, Online SVM, Naive Bayes (partial_fit)   |\n",
    "| Use Case Examples         | Image classification, NLP with fixed corpus | Real-time fraud detection, recommender systems |\n"
   ]
  },
  {
   "cell_type": "markdown",
   "id": "0356a32b-93b7-4cbd-b1b6-46e4d11cd883",
   "metadata": {},
   "source": [
    "## Instance- Based Versus Model- Based learning"
   ]
  },
  {
   "cell_type": "markdown",
   "id": "d19622f6-7cc0-4e26-be86-0878ec25672c",
   "metadata": {},
   "source": [
    "**this is the way to generalize the learning how our model gonna react to the upcoming new data**"
   ]
  },
  {
   "cell_type": "markdown",
   "id": "f78c06fe-a9a5-4f69-8046-43658e493fc8",
   "metadata": {
    "jp-MarkdownHeadingCollapsed": true
   },
   "source": [
    "### Instance-Based learning"
   ]
  },
  {
   "cell_type": "markdown",
   "id": "20f810d8-372c-4217-ac5e-1b681d3ecbf3",
   "metadata": {},
   "source": [
    "- This kind of learning is said to be learn by Heart Method.\n",
    "- In this kind of learning for a example you gave many instances to your model to filter spams mails so it gonna flag all new instannces with having similarity on trained instances.\n",
    "- This gonna require the **Measure of similarity** between two mails.\n",
    "- In this learning model generlize to new cases by similarity measures.\n",
    "- this method is not the worse but also not the best , something  between in middle."
   ]
  },
  {
   "cell_type": "markdown",
   "id": "0edba5b7-3f21-47e9-aee4-ecfe0df1e82b",
   "metadata": {},
   "source": [
    "### Model- based learning"
   ]
  },
  {
   "cell_type": "markdown",
   "id": "9590a948-f213-4b38-ae8d-aacdf5d40d2a",
   "metadata": {},
   "source": [
    "- In this model is Trained on a data set then system use the model to make prediction."
   ]
  },
  {
   "cell_type": "markdown",
   "id": "17a8750e-39e6-4cba-a1e0-ad9f8c1b3461",
   "metadata": {},
   "source": [
    "<div style=\"\n",
    "    border: 2px dashed #87CEEB;\n",
    "    background-color: #E0F7FF;\n",
    "    padding: 15px;\n",
    "    border-radius: 5px;\n",
    "    font-size: 16px;\n",
    "\">\n",
    "    <strong>💡 Note:</strong>\n",
    "    <ul>\n",
    "        <li><b>Model</b>=> it refers to the type of model for example Liner regression model</li>\n",
    "        <li>Training models means running an algorithm to find the model parameters that will make it fit best with training data</li>\n",
    "    </ul>\n",
    "</div>"
   ]
  },
  {
   "cell_type": "markdown",
   "id": "716a4ec1-2f9e-457d-b237-9e6929dcc10e",
   "metadata": {},
   "source": [
    "| Feature                 | Cost Function                             | Utility Function                             |\n",
    "|-------------------------|--------------------------------------------|-----------------------------------------------|\n",
    "| Domain                  | Machine Learning, Optimization             | Economics, Game Theory, Decision Theory       |\n",
    "| Purpose                 | Measure error or loss                      | Measure preference or satisfaction            |\n",
    "| Goal                    | Minimize it                                | Maximize it                                   |\n",
    "| Typical Range           | Often ≥ 0 (e.g., MSE, Cross-Entropy)       | Can be positive, negative, or normalized      |\n",
    "| Examples                | MSE, MAE, Cross-Entropy                    | Cobb-Douglas Utility, Expected Utility        |\n",
    "| Used By                 | Algorithms (e.g., gradient descent)        | Agents or consumers making decisions          |\n",
    "| Interpretation          | Lower cost → better model                 | Higher utility → more preferred outcome       |\n"
   ]
  },
  {
   "cell_type": "markdown",
   "id": "60d36f31-4b19-4f92-865b-9f52209e1927",
   "metadata": {},
   "source": [
    "**cost function** and **utility function** are performance measurse that we choose."
   ]
  },
  {
   "cell_type": "markdown",
   "id": "99701544-d150-40cc-a0ae-f161d99f6372",
   "metadata": {},
   "source": [
    "---"
   ]
  },
  {
   "cell_type": "markdown",
   "id": "c69dbfc8-2a25-443e-831c-d084d28a0975",
   "metadata": {},
   "source": [
    "Here is a model that loads the data , seprate the inputs X from the labels y, create a scatterplott for visulatization, and then trains a liear model and makes a prediction"
   ]
  },
  {
   "cell_type": "code",
   "execution_count": 1,
   "id": "7ac03167-6cfb-4c15-9264-3d44693cc24a",
   "metadata": {},
   "outputs": [
    {
     "data": {
      "image/png": "[encoded data removed]",
      "text/plain": [
       "<Figure size 640x480 with 1 Axes>"
      ]
     },
     "metadata": {},
     "output_type": "display_data"
    },
    {
     "name": "stdout",
     "output_type": "stream",
     "text": [
      "[[6.30165767]]\n"
     ]
    }
   ],
   "source": [
    "import matplotlib.pyplot as plt\n",
    "import numpy as np\n",
    "import pandas as pd\n",
    "from sklearn.linear_model import LinearRegression\n",
    "\n",
    "# Download and prepare the data\n",
    "data_root = \"https://github.com/ageron/data/raw/main/\"\n",
    "lifesat = pd.read_csv(data_root + \"lifesat/lifesat.csv\")\n",
    "X = lifesat[[\"GDP per capita (USD)\"]].values\n",
    "y = lifesat[[\"Life satisfaction\"]].values\n",
    "\n",
    "# Visualize the data\n",
    "lifesat.plot(kind='scatter', grid=True,\n",
    "             x=\"GDP per capita (USD)\", y=\"Life satisfaction\")\n",
    "plt.axis([23_500, 62_500, 4, 9])\n",
    "plt.show()\n",
    "\n",
    "# Select a linear model\n",
    "model = LinearRegression()\n",
    "\n",
    "# Train the model\n",
    "model.fit(X, y)\n",
    "\n",
    "# Make a prediction for Cyprus\n",
    "X_new = [[37_655.2]]  # Cyprus' GDP per capita in 2020\n",
    "print(model.predict(X_new)) # outputs [[6.30165767]]"
   ]
  },
  {
   "cell_type": "code",
   "execution_count": 2,
   "id": "faf0a48a-84a5-4645-bc58-40457c9590f5",
   "metadata": {},
   "outputs": [
    {
     "data": {
      "image/png": "[encoded data removed]",
      "text/plain": [
       "<Figure size 640x480 with 1 Axes>"
      ]
     },
     "metadata": {},
     "output_type": "display_data"
    },
    {
     "name": "stdout",
     "output_type": "stream",
     "text": [
      "[[6.33333333]]\n"
     ]
    }
   ],
   "source": [
    "import matplotlib.pyplot as plt\n",
    "import numpy as np\n",
    "import pandas as pd\n",
    "from sklearn.neighbors import KNeighborsRegressor\n",
    "\n",
    "# Download and prepare the data\n",
    "data_root = \"https://github.com/ageron/data/raw/main/\"\n",
    "lifesat = pd.read_csv(data_root + \"lifesat/lifesat.csv\")\n",
    "X = lifesat[[\"GDP per capita (USD)\"]].values\n",
    "y = lifesat[[\"Life satisfaction\"]].values\n",
    "\n",
    "# Visualize the data\n",
    "lifesat.plot(kind='scatter', grid=True,\n",
    "             x=\"GDP per capita (USD)\", y=\"Life satisfaction\")\n",
    "plt.axis([23_500, 62_500, 4, 9])\n",
    "plt.show()\n",
    "\n",
    "# Select a linear model\n",
    "model = KNeighborsRegressor(n_neighbors=3)\n",
    "\n",
    "# Train the model\n",
    "model.fit(X, y)\n",
    "\n",
    "# Make a prediction for Cyprus\n",
    "X_new = [[37_655.2]]  # Cyprus' GDP per capita in 2020\n",
    "print(model.predict(X_new)) "
   ]
  },
  {
   "cell_type": "markdown",
   "id": "813202d2-53db-4ad1-a354-336b9ecf3870",
   "metadata": {},
   "source": [
    "# Main Challenges of Machine Learning"
   ]
  },
  {
   "cell_type": "markdown",
   "id": "1015ea7c-9b31-4f9d-ac19-395a798202d6",
   "metadata": {
    "jp-MarkdownHeadingCollapsed": true
   },
   "source": [
    "## Insufficent Quantity of training Data"
   ]
  },
  {
   "cell_type": "code",
   "execution_count": 3,
   "id": "a105932a-341b-46c9-b4d9-46bc8014474c",
   "metadata": {},
   "outputs": [
    {
     "data": {
      "image/png": "[encoded data removed]",
      "text/plain": [
       "<Figure size 1000x600 with 1 Axes>"
      ]
     },
     "metadata": {},
     "output_type": "display_data"
    }
   ],
   "source": [
    "import matplotlib.pyplot as plt\n",
    "import numpy as np\n",
    "\n",
    "# Simulated X-axis (Millions of Words, on log scale)\n",
    "x = np.array([0.3, 1, 3, 10, 30, 100, 300, 1000])\n",
    "\n",
    "# Simulated Test Accuracies for each model (from your plot)\n",
    "memory_based = [0.81, 0.84, 0.86, 0.88, 0.90, 0.91, 0.92, 0.93]\n",
    "winnow       = [0.72, 0.83, 0.89, 0.92, 0.94, 0.95, 0.96, 0.97]\n",
    "perceptron   = [0.75, 0.82, 0.88, 0.91, 0.94, 0.95, 0.96, 0.97]\n",
    "naive_bayes  = [0.80, 0.85, 0.89, 0.92, 0.94, 0.95, 0.96, 0.965]\n",
    "\n",
    "# Plotting\n",
    "plt.figure(figsize=(10, 6))\n",
    "\n",
    "plt.plot(x, memory_based, 'ro-', label='Memory-Based')\n",
    "plt.plot(x, winnow, 'bx-', label='Winnow')\n",
    "plt.plot(x, perceptron, 'g^-', label='Perceptron')\n",
    "plt.plot(x, naive_bayes, 'ks-', label='Naive Bayes')\n",
    "\n",
    "plt.xscale('log')\n",
    "plt.ylim(0.7, 1.0)\n",
    "plt.xlabel('Millions of Words', fontsize=12)\n",
    "plt.ylabel('Test Accuracy', fontsize=12)\n",
    "plt.title('Model Accuracy vs. Training Data Size', fontsize=14)\n",
    "plt.grid(True, which='both', linestyle='--', linewidth=0.5)\n",
    "plt.legend()\n",
    "plt.tight_layout()\n",
    "plt.show()"
   ]
  },
  {
   "cell_type": "markdown",
   "id": "6a505d92-a3fb-46b0-8d1a-9f703cf97ee3",
   "metadata": {},
   "source": [
    "> Traning model kinda requires more and huge amount of data rather than a kid whome you are teaching how and what apple looks like or is."
   ]
  },
  {
   "cell_type": "markdown",
   "id": "0d79300e-00ab-4ebd-b891-f944055282be",
   "metadata": {},
   "source": [
    "1. Massive Datasets Enable Better Performance\n",
    "\n",
    "- Using very large, even noisy datasets allows models to better capture the complexity of real-world phenomena.\n",
    "\n",
    "- For example, in language tasks, web-scale corpora improve performance significantly—even if the data isn't perfectly clean.\n",
    "\n",
    "2. Unstructured or Noisy Data Still Helps\n",
    "\n",
    "- Data scraped from the web (blogs, forums, etc.) may be messy, but quantity often compensates for quality.\n",
    "\n",
    "3. Domain-Specific vs. General Data\n",
    "\n",
    "- In many cases, general-purpose data at massive scale outperforms smaller, domain-specific datasets.\n",
    "\n",
    "4. Model Complexity is Overrated\n",
    "\n",
    "- Many advances have come not from deeper theory, but from scaling up simple ideas with better data.\n",
    "\n",
    "5. Engineering Infrastructure Matters\n",
    "\n",
    "- The ability to collect, store, and process large datasets is critical—and often more challenging than developing novel algorithms"
   ]
  },
  {
   "cell_type": "markdown",
   "id": "e5b86f8b-26fb-48ac-b300-cad564c6b02d",
   "metadata": {},
   "source": [
    "---"
   ]
  },
  {
   "cell_type": "markdown",
   "id": "53d329d6-eb3d-4db5-9379-60d6e7fe29cf",
   "metadata": {},
   "source": [
    "- [ML algorith comprassion](https://homl.info/6)\n",
    "- [The Unreasonable effectiveness of data](https://homl.info/7)"
   ]
  },
  {
   "cell_type": "markdown",
   "id": "0a65be1e-40e4-45f7-8656-9a3b13fef893",
   "metadata": {},
   "source": [
    "---"
   ]
  },
  {
   "cell_type": "markdown",
   "id": "a1728850-1445-4cb9-b662-411850c5f693",
   "metadata": {},
   "source": [
    "## Nonrepresntive Training Data"
   ]
  },
  {
   "cell_type": "markdown",
   "id": "56422ecf-9310-4678-bae5-122e5f76ef71",
   "metadata": {},
   "source": [
    "In order to genralize well , it's crucial that our trainig data be representative of the new cases we want to genralize , only on this we choose instance based or model based learning"
   ]
  },
  {
   "cell_type": "markdown",
   "id": "2631a980-a433-4d7b-bc00-cda89ff380e4",
   "metadata": {},
   "source": [
    "- **Definition:**\n",
    "Non-representative data is data that does not accurately reflect the broader population or system it is meant to describe or analyze. This can lead to misleading conclusions or poor model performance.\n",
    "\n",
    "- **Causes:**\n",
    "\n",
    "1. Sampling only certain groups (e.g., only urban users in a nationwide survey)\n",
    "\n",
    "2. Ignoring minority or edge cases\n",
    "\n",
    "3. Biased data sources (e.g., only English-language tweets)\n",
    "\n",
    "- **Example:**\n",
    "If you train a language model using only news articles, it may not perform well on casual conversation because the training data doesn’t represent everyday speech."
   ]
  },
  {
   "cell_type": "markdown",
   "id": "20791dbb-844f-4486-b3ce-8d393084ab95",
   "metadata": {},
   "source": [
    "**<u>Nonresponse Bias</u>**\n",
    "- **Definition:**\n",
    "Nonresponse bias occurs when certain groups of people do not respond to a survey or study, and those groups differ meaningfully from those who do respond. This skews the results.\n",
    "\n",
    "- **Cause:**\n",
    "People who choose not to respond often share traits (e.g., lower income, privacy concerns), so their absence biases the data.\n",
    "\n",
    "- **Example:**\n",
    "If only 30% of people respond to a political survey—and most of them are highly engaged voters—the results won't reflect the general population's views."
   ]
  },
  {
   "cell_type": "markdown",
   "id": "40cc147f-af28-453e-be6c-8a92a857d556",
   "metadata": {},
   "source": [
    "## Poor-Quality Data"
   ]
  },
  {
   "cell_type": "markdown",
   "id": "66d988bd-f63b-49e5-9c92-91e584d58f88",
   "metadata": {},
   "source": [
    "The data that provided to the model must be good as poor data can lead to low performance this is why most of data scintist spend thier time on cleaning the data"
   ]
  },
  {
   "cell_type": "markdown",
   "id": "b1452342-f306-45a7-8c26-d3df2da7dd69",
   "metadata": {},
   "source": [
    "In some cases like maybe you gonna have data in which many of user dosen't defines thier age so it's upto you weather you want to ignore them or take some of data to represnent them"
   ]
  },
  {
   "cell_type": "markdown",
   "id": "4e7ed373-7893-4582-93c1-3a4e92ce6b6d",
   "metadata": {},
   "source": [
    "## Irrelevnt Features"
   ]
  },
  {
   "cell_type": "markdown",
   "id": "7a807fd9-2166-4c96-a8f4-b8cba0677d13",
   "metadata": {},
   "source": [
    "As famously saying if you put garbage then only garbage is going to be out"
   ]
  },
  {
   "cell_type": "markdown",
   "id": "7af52109-a383-4575-a22c-557b61cfc5e1",
   "metadata": {},
   "source": [
    "The system gonna learn only when trainig data contains enough relevent features we wanna give to our model and not too many irrelevent one."
   ]
  },
  {
   "cell_type": "markdown",
   "id": "8f621ecb-0d98-41c9-9614-eceedf55e6de",
   "metadata": {},
   "source": [
    "**Feature engineering** is the process of transforming raw data into meaningful features to improve model performance, typically involving steps like feature selection, feature extraction, and creating new features by gathering additional data."
   ]
  },
  {
   "cell_type": "markdown",
   "id": "b332150c-8f1c-4641-b90e-79cb7f6a0b58",
   "metadata": {},
   "source": [
    "1. **Feature Selection** =>\n",
    "Choosing the most relevant features from existing data that contribute significantly to the predictive power of the model.\n",
    "\n",
    "2. **Feature Extraction** =>\n",
    "Transforming raw data into informative features, often by combining or encoding variables (e.g., PCA, text vectorization).\n",
    "\n",
    "3. **Creating New Features by Gathering New Data** =>\n",
    "Enhancing the dataset by collecting additional external or derived data that introduces new, useful features for the model."
   ]
  },
  {
   "cell_type": "markdown",
   "id": "eac4bcd6-699d-4dc0-8d51-d63e2d27c8fc",
   "metadata": {},
   "source": [
    "## Overfitting the Training Data"
   ]
  },
  {
   "cell_type": "markdown",
   "id": "4bbc6a33-0bd7-41ac-8aa5-a23fb806f20c",
   "metadata": {},
   "source": [
    "Overfitting the training data occurs when a machine learning model learns the training data too well, including its noise, outliers, or random fluctuations, rather than just the underlying patterns. As a result, the model performs very well on the training data but poorly on unseen (test or real-world) data."
   ]
  },
  {
   "cell_type": "markdown",
   "id": "76ae4e91-3799-4aee-ac14-2de7364ff392",
   "metadata": {},
   "source": [
    "A student who memorizes practice questions instead of understanding the concepts—they ace the practice test but fail the real exam."
   ]
  },
  {
   "cell_type": "markdown",
   "id": "23494c63-58e7-472c-9eb4-adf877b0ea82",
   "metadata": {},
   "source": [
    "**<u>Solutions to this</u>**\n",
    "1. Simplify the model by selecting one with fewer parameters by reducing the number of attributes in the training data, or by constrainning the model.\n",
    "2. Gather more training data.\n",
    "3. reduce the noise in the training data."
   ]
  },
  {
   "cell_type": "markdown",
   "id": "8584409d-36e2-42d4-9d2e-f66b7ce649f2",
   "metadata": {},
   "source": [
    "constraining a model to make it simpler and reduce the risk of overfitting is ccalled **regularization**"
   ]
  },
  {
   "cell_type": "markdown",
   "id": "69c120d9-6a61-4542-8f52-74ffaebd57de",
   "metadata": {},
   "source": [
    "---"
   ]
  },
  {
   "cell_type": "markdown",
   "id": "ec56180c-b62c-41d9-8093-47acaa5f2dd0",
   "metadata": {},
   "source": [
    "- A **hyperparameter** is a setting or configuration that is defined before training a machine learning model, and it controls the learning process but is not learned from the data.\n",
    "- By this we can control the amount of regularization to apply durinng learning.\n",
    "- it's a parameter of learning algorithm not of the model."
   ]
  },
  {
   "cell_type": "markdown",
   "id": "32f782e3-6119-4872-ae08-cce823a8b3f6",
   "metadata": {},
   "source": [
    "| Model Type      | Hyperparameters Examples                    |\n",
    "| --------------- | ------------------------------------------- |\n",
    "| Linear Models   | Regularization strength (`alpha`, `lambda`) |\n",
    "| Decision Trees  | Max depth, min samples per leaf             |\n",
    "| Neural Networks | Learning rate, number of layers, batch size |\n",
    "| SVM             | Kernel type, `C`, `gamma`                   |\n"
   ]
  },
  {
   "cell_type": "markdown",
   "id": "8a5eae1a-bf5a-4986-bbf1-4ba5f83fa222",
   "metadata": {},
   "source": [
    "## Underfitting the trainning Data"
   ]
  },
  {
   "cell_type": "markdown",
   "id": "e84a2009-06be-49ea-88eb-8be6967117ce",
   "metadata": {},
   "source": [
    "> **It's opp. of Overfitting**"
   ]
  },
  {
   "cell_type": "markdown",
   "id": "6d5ca648-02ef-4594-b787-fdfedc3092ed",
   "metadata": {},
   "source": [
    "Meaning it occurs when the model is too simple to learn anything"
   ]
  },
  {
   "cell_type": "markdown",
   "id": "51826a90-c338-4ff1-a26c-d8dcde1a20df",
   "metadata": {},
   "source": [
    "**<u>Ways to fix this</u>**\n",
    "\n",
    "1. Select a more powerful model, with more parameters.\n",
    "2. Feed better features to the learning algorithm(**feature engineering**)\n",
    "3. Reduce the constraints on the model"
   ]
  },
  {
   "cell_type": "markdown",
   "id": "a94a0526-932b-4ce2-aaec-9e4139802acb",
   "metadata": {
    "jp-MarkdownHeadingCollapsed": true
   },
   "source": [
    "# Testing and Validating"
   ]
  },
  {
   "cell_type": "markdown",
   "id": "c8394f1a-5a20-414a-ba6d-4fa07d7e47ad",
   "metadata": {},
   "source": [
    "The best way to see if your model is working well by putting it on production line but user gonna complain if it not worked well or generalizes well"
   ]
  },
  {
   "cell_type": "markdown",
   "id": "815d7d5e-9c59-44bd-867e-7aa8a5616f7e",
   "metadata": {},
   "source": [
    "to get rid of this seprate your data set into two : `training set` and `test set`\n",
    "1. **training set** will be used to train the data\n",
    "2. **test set** will be used to check weather the model work on new instances or not or how it genralzizes"
   ]
  },
  {
   "cell_type": "markdown",
   "id": "0ce68779-17ce-41e7-9b27-50c4828e46cb",
   "metadata": {},
   "source": [
    "The error rate on new cases is known as **generalize error**"
   ]
  },
  {
   "cell_type": "markdown",
   "id": "1f3ca056-3757-4793-a3aa-b6cb4c27c1b6",
   "metadata": {},
   "source": [
    "- If **training error** is low it means model make few mistakes on training set.\n",
    "- if **generalization error** is high it means model is overfitting the training data."
   ]
  },
  {
   "cell_type": "markdown",
   "id": "f0b0ed42-b961-4290-a4a2-c1cb38ff00a0",
   "metadata": {
    "jp-MarkdownHeadingCollapsed": true
   },
   "source": [
    "## Hyperparameter tunning and model selection"
   ]
  },
  {
   "cell_type": "markdown",
   "id": "2c58b26a-40ee-4401-a6c9-92b2dd52b71a",
   "metadata": {},
   "source": [
    " Selecting a model is not sounds quiet hard but it's coz maybe you train 100 models over 100 hyperparameter and gets 5% erroe which is small and deploy it but later after deploying you will find it as 15%. why? coz the model is adapted to a particular data set and can't able to do well on new data sets."
   ]
  },
  {
   "cell_type": "markdown",
   "id": "e7b42460-4e04-4af8-a308-5a9b849004c5",
   "metadata": {},
   "source": [
    "solution to this is **Holdout validation**"
   ]
  },
  {
   "cell_type": "markdown",
   "id": "de3572a4-25c9-44e9-93fc-1760d93bb69d",
   "metadata": {},
   "source": [
    "### Holdout Validation"
   ]
  },
  {
   "cell_type": "markdown",
   "id": "1cea5e7f-bc0d-4104-b675-97aa998ec599",
   "metadata": {},
   "source": [
    "- Here we just simply hold a part of data to test on selected model after the traininng which enable us to filter out the best model . that set of data is called **Validation set** , **Development set** or **dev set**.\n",
    "- After this validation set we train the best model on full set and get the accuracy of error(**Generalization error**).\n",
    "- **Dev set** should not be too small or large as in case of Small you will edning up selecting suboptional model.\n",
    "- But maybe you will find how a big dev set can be bad like more data more accuracy but no here is a catch you gonna test your model on big dev set and then best model will be tested on whole test set and guess what your model will be fimilar with that , so it will be not ideal to comapre.\n",
    "- One way to solv this is **Cross validation**"
   ]
  },
  {
   "cell_type": "markdown",
   "id": "b8f39dcd-1c01-45b9-aed4-ed99eb6ea978",
   "metadata": {},
   "source": [
    "### Cross Validation"
   ]
  },
  {
   "cell_type": "markdown",
   "id": "2b36b895-29c4-4955-adef-926c02ee69e6",
   "metadata": {},
   "source": [
    "- Here we divide our dev set into many smaller one and test it on our model for getting more good result.\n",
    "- only drawback is more time taking **Training time Multiplyed by the number of validation set**"
   ]
  },
  {
   "cell_type": "markdown",
   "id": "94a294d2-47bc-43c7-867c-c1291c11d356",
   "metadata": {},
   "source": [
    "| Method             | Pros                         | Cons                                      |\n",
    "| ------------------ | ---------------------------- | ----------------------------------------- |\n",
    "| Holdout Validation | Simple and fast              | May give unreliable results on small data |\n",
    "| Cross-Validation   | More accurate, less variance | Slower, higher computational cost         |\n"
   ]
  },
  {
   "cell_type": "markdown",
   "id": "c92a750d-7887-4b09-9598-2640b7b28fae",
   "metadata": {},
   "source": [
    "## Data Mismatch"
   ]
  },
  {
   "cell_type": "markdown",
   "id": "035b47df-b20d-4c2f-93f5-a8561116d422",
   "metadata": {},
   "source": [
    "- There are times when you can find huge amount of data but the question is... is that data is representative to your model or your aim?\n",
    "- The data which is not relative can lead to poor performance of the model as they will create unneccessary learning and time.\n",
    "- training set and dev set both should be representative to your model."
   ]
  },
  {
   "cell_type": "markdown",
   "id": "8d3c390a-e2e8-4ae7-8295-eecaf48f68f5",
   "metadata": {},
   "source": [
    "1. Even after good representative data set you may can find poor performance maybe due to data mismatch from the data that model gonna get in production and the data feed in training set.\n",
    "2. for this one should create a **Train-dev set** in mid of training data and dev data after training you should test it on train-dev data if it fails then re train model if it pass but failes in dev set than you should train it again on actual data you gonna get in production more and reduce the data mismatch"
   ]
  },
  {
   "cell_type": "markdown",
   "id": "4de3e10f-21b6-40f1-bb9f-536948a6fd5f",
   "metadata": {
    "jp-MarkdownHeadingCollapsed": true
   },
   "source": [
    "# NFL theorem(No Free Lunch)"
   ]
  },
  {
   "cell_type": "markdown",
   "id": "c21181e6-64c1-4188-9258-32820b6624d7",
   "metadata": {},
   "source": [
    "| Key Point               | Explanation                                            |\n",
    "| ----------------------- | ------------------------------------------------------ |\n",
    "| No universal best model | Performance depends on the problem/data                |\n",
    "| Evaluation is essential | Always validate and test models on real data           |\n",
    "| Drives experimentation  | Encourages trying multiple algorithms and feature sets |\n"
   ]
  },
  {
   "cell_type": "markdown",
   "id": "0421bdc3-159e-43ec-947a-8c1242af18bc",
   "metadata": {},
   "source": [
    "> In machine learning, the No Free Lunch Theorem states that no single algorithm performs best across all possible problems. An algorithm that works well for one type of task may perform poorly on another. Therefore, model selection must be tailored to the specific problem and dataset."
   ]
  },
  {
   "cell_type": "markdown",
   "id": "14f02d4a-c0ac-4785-8ffd-f41c31f6aaad",
   "metadata": {},
   "source": [
    "# Exercise"
   ]
  },
  {
   "cell_type": "markdown",
   "id": "c8714ab9-084f-429d-837d-d8a4ce57dac4",
   "metadata": {},
   "source": [
    "1 . **How do you Define Machine Learning?**\n",
    "- Machine Learning (ML) is a way to build programs that can learn from data and improve their performance on a task without being explicitly programmed each time.\n",
    "- For example: spam emails can be filtered by learning patterns such as specific keywords, writing style, or how frequently emails are sent from one account to others."
   ]
  },
  {
   "cell_type": "markdown",
   "id": "c1d031e4-73f8-407c-a353-7d6aa77c1445",
   "metadata": {},
   "source": [
    "2. **Can you name four types of applications where it shines?**\n",
    "- analyzing images of products on a production line to automatically classify them.\n",
    "- Detecting tumors in brain\n",
    "- Automatically classify news articles.\n",
    "- Automatically flagging offensive comments on discussion forums"
   ]
  },
  {
   "cell_type": "markdown",
   "id": "b3b0e431-90fe-4875-9f03-60104c1b454c",
   "metadata": {},
   "source": [
    "3. **What is a labeled training set?**\n",
    "- A labeled training set is a set of data used to train a machine learning model. It should be representative of the problem or task we want the model to learn, containing both input features and the correct outputs (labels)."
   ]
  },
  {
   "cell_type": "markdown",
   "id": "0c9779c3-d0d5-4ba4-8481-1a08c65eb9d8",
   "metadata": {},
   "source": [
    "4. **What are the most common supervised tasks?**\n",
    "- The two most common supervised tasks are:- \n",
    "1. regression => predicting a continuous numerical value (e.g., predicting house prices)\n",
    "2. classification => predicting a discrete category or class (e.g., classifying emails as spam or not spam)"
   ]
  },
  {
   "cell_type": "markdown",
   "id": "b00648f8-b6cf-4c5c-82e9-e0f4bb70f508",
   "metadata": {},
   "source": [
    "5. **Can you name four common unsupervised tasks?**\n",
    "- Clustering – grouping similar data points together (e.g., customer segmentation).\n",
    "\n",
    "- Visualization – reducing data to 2D or 3D to help understand patterns.\n",
    "\n",
    "- Dimensionality Reduction – simplifying data by reducing the number of features while keeping important information\n",
    "\n",
    "- Association Rule Learning – finding interesting relationships or patterns in data (e.g., market basket analysis: \"People who buy X also buy Y\")."
   ]
  },
  {
   "cell_type": "markdown",
   "id": "b053121d-2475-4f0c-8ca0-632a0c4f0f2e",
   "metadata": {},
   "source": [
    "6. **What type of algorithm would you use to allow a robot to walk in various unknown terrains?**\n",
    "- Reinforcement Learning is likely to perform best if we want a robot to learn to walk in various unknown terrains, since this is typically the type of problem that Reinforcement Learning tackles. It might be possible to express the problem as a supervised or semi-supervised learning problem, but it would be less natural."
   ]
  },
  {
   "cell_type": "markdown",
   "id": "38786c1a-6766-4abf-b4a2-a785ce706e91",
   "metadata": {},
   "source": [
    "7. **What type of algorithm would you use to segment your customers into multiple groups?**\n",
    "- If you don’t know the groupings in advance, you can use a clustering algorithm (unsupervised learning) to automatically segment your customers into groups based on similarities.\n",
    "- On the other hand, if you already know the group labels, you can provide labeled examples to a classification algorithm (supervised learning), which will then assign new customers to the correct groups."
   ]
  },
  {
   "cell_type": "markdown",
   "id": "88a2643a-2a8c-43c1-95ec-30bc00ed04fa",
   "metadata": {},
   "source": [
    "8. **Would you frame the problem of spam detection as a supervised learning problem or an unsupervised learning problem?**\n",
    "- Spam detection is a typical supervised learning problem: the algorithm is fed many emails along with their labels (spam or not spam)."
   ]
  },
  {
   "cell_type": "markdown",
   "id": "f65d91a0-3d3a-4ba6-b6ee-2e0457650f23",
   "metadata": {},
   "source": [
    "9. **What is online learning?**\n",
    "\n",
    "- In machine learning (ML), online learning refers to a learning paradigm where the model learns incrementally, updating itself as each new data point arrives, rather than training on the entire dataset all at once."
   ]
  },
  {
   "cell_type": "markdown",
   "id": "1788a8fb-3daa-4831-b44f-65aaf65c6b50",
   "metadata": {},
   "source": [
    "10. **What is out-of-core learning?**\n",
    "- Out-of-core learning is a ml algorithm that used to train the model over large dataset that are not so big to load in computer memory so instead of putting all data at once tht data is broke into many small chunks."
   ]
  },
  {
   "cell_type": "markdown",
   "id": "05a2ad79-10bb-49f2-a832-836353c309c7",
   "metadata": {},
   "source": [
    "11. **what type of algorithm relies on a similarity measure to make predictions?**\n",
    "- An instance-based learning system learns the training data by heart; then, when given a new instance, it uses a similarity measure to find the most similar learned instances and uses them to make predictions."
   ]
  },
  {
   "cell_type": "markdown",
   "id": "29b32d7a-8095-4e6c-9ac1-dc69236aae71",
   "metadata": {},
   "source": [
    "12. **What is difference between model parameter and model hyperparameter?**\n",
    "- | **Aspect**                       | **Model Parameters**                                            | **Model Hyperparameters**                               |\n",
    "| -------------------------------- | --------------------------------------------------------------- | ------------------------------------------------------- |\n",
    "| **Definition**                   | Variables internal to the model, learned from data              | External configurations set before training             |\n",
    "| **Set by**                       | Optimization algorithm during training (e.g., gradient descent) | User or tuning process (e.g., grid/random search)       |\n",
    "| **Change during training**       | Yes                                                             | No                                                      |\n",
    "| **Determines**                   | How the model makes predictions                                 | How the model learns or behaves                         |\n",
    "| **Examples (Linear Regression)** | Coefficients (weights), bias                                    | Learning rate, regularization strength                  |\n",
    "| **Examples (Neural Network)**    | Weights and biases of layers                                    | Number of layers, neurons per layer, learning rate      |\n",
    "| **Examples (Decision Tree)**     | Split conditions, thresholds                                    | Max depth, min samples per leaf                         |\n",
    "| **Stored with model**            | Yes (essential for inference/prediction)                        | No (needed only during training/tuning)                 |\n",
    "| **Optimization Objective**       | Minimize loss function                                          | Optimize performance via tuning                         |\n",
    "| **Tools to set**                 | Automatically via backpropagation or fitting algorithm          | Manually or using tools like Grid Search, Random Search |\n"
   ]
  },
  {
   "cell_type": "markdown",
   "id": "c7e63132-fe05-4178-8aca-69ccdbe4f42b",
   "metadata": {},
   "source": [
    "13. **what do model-based algorithms search for? what is the most common strategy they use to succeed? how do they make predictions?**\n",
    "\n",
    "- Model-based algorithms search for the best model parameters that:\n",
    "  > - Minimize a loss/cost/error function (e.g., mean squared error, cross-entropy).\n",
    "  > - Fit the training data well while possibly generalizing to unseen data.\n",
    "\n",
    "- The most common strategy is optimization, particularly:\n",
    "  > - Measures the error between the model's predictions and the true values on the training data.\n",
    "  > - Often includes a regularization term, which penalizes model complexity to help avoid overfitting and improve generalization.\n",
    "\n",
    "- To make predictions:\n",
    "  > - The model uses a prediction function (e.g., a mathematical formula or learned structure).\n",
    "  > - he input features of a new instance are fed into this function.\n",
    "  > - The parameter values found during training are used within this function to generate the output."
   ]
  },
  {
   "cell_type": "markdown",
   "id": "3e2daf14-329d-4dcd-abce-2515c842474d",
   "metadata": {},
   "source": [
    "14. **Can you name four of the main challnges in Machine Learning?**\n",
    "- poor data quality\n",
    "- Irrevelent features\n",
    "- overfitting of data\n",
    "- underfitting the training data"
   ]
  },
  {
   "cell_type": "markdown",
   "id": "e1a20d77-8ffe-4de9-a171-d8e8e3eeb123",
   "metadata": {},
   "source": [
    "15. **If your model performs great on the training data but generalizes poorly to new instances, what is happening? can you name three possible solutions?**\n",
    "- If a model performs great on the training data but generalizes poorly to new instances, the model is likely overfitting the training data.\n",
    "- | **Solution**                   | **Explanation**                                                                                                                                      |\n",
    "| ------------------------------ | ---------------------------------------------------------------------------------------------------------------------------------------------------- |\n",
    "| **1. Use Regularization**      | Add a penalty to the cost function (e.g., L1 or L2) to discourage overly complex models. This keeps the model simpler and helps prevent overfitting. |\n",
    "| **2. Get More Training Data**  | More data can help the model learn general patterns instead of fitting to noise. This is especially helpful in high-variance models.                 |\n",
    "| **3. Reduce Model Complexity** | Use a simpler model (fewer layers, smaller trees, fewer parameters) so it has less capacity to overfit.                                              |\n"
   ]
  },
  {
   "cell_type": "markdown",
   "id": "934b23b3-46b6-42b4-af32-ad8458096759",
   "metadata": {},
   "source": [
    "16. **what is test set, and why would you want to use it?**\n",
    "- A test set is used to estimate the generalization error that a model will make on new instances, before the model is launched in production."
   ]
  },
  {
   "cell_type": "markdown",
   "id": "19737d81-2a92-4655-86f1-44a1182d95a5",
   "metadata": {},
   "source": [
    "17. **What is the purpose of validation set?**\n",
    "- | **Purpose**                              | **Explanation**                                                                                                                               |\n",
    "| ---------------------------------------- | --------------------------------------------------------------------------------------------------------------------------------------------- |\n",
    "| **1. Hyperparameter Tuning**             | Helps select the best hyperparameters (e.g., learning rate, number of layers) by evaluating model performance on unseen data during training. |\n",
    "| **2. Model Selection**                   | Helps compare multiple models (e.g., different architectures or algorithms) to choose the one that performs best.                             |\n",
    "| **3. Early Stopping**                    | Prevents overfitting by monitoring validation loss and stopping training when performance starts to degrade.                                  |\n",
    "| **4. Performance Estimation (Pre-test)** | Provides an unbiased estimate of how the model might perform before testing it on the final test set.                                         |\n"
   ]
  },
  {
   "cell_type": "markdown",
   "id": "6749e94c-d08c-4d00-8659-d2595b545d09",
   "metadata": {},
   "source": [
    "18. **what is train-dev set, when do you need it, and how do you use it?**\n",
    "- A train-dev set is a subset of the training data that is not used during training, but also not as \"unseen\" as the dev (validation) or test sets.\n",
    "  - It comes from the same distribution as the training set.\n",
    "  - Used to help debug issues when your dev/test set has a different distribution from your training set.\n",
    "- You need a train-dev set when:\n",
    "  - Your model performs well on the training set\n",
    "  - But poorly on the dev/test set\n",
    "  - And you suspect the dev/test set is from a different distribution (e.g., real-world data, edge cases, different demographics, etc.)\n",
    "- Here's the process to use it:\n",
    "  - Split off part of your training set (same distribution) to create a train-dev set\n",
    "  - After training your model:\n",
    "    - Evaluate it on the train set → measures how well it fits.\n",
    "    - Evaluate it on the train-dev set → measures generalization within the same distribution.\n",
    "    - Evaluate it on the dev/test set → measures generalization to different or real-world distributions.\n",
    "  - Compare results:\n",
    "    - If train vs. train-dev performance is poor → you have overfitting.\n",
    "    - If train-dev vs. dev/test performance is poor → you have a data mismatch problem.\n",
    "\n",
    "- Example:\n",
    "  - | **Set**          | **Distribution**          | **Purpose**                                         |\n",
    "| ---------------- | ------------------------- | --------------------------------------------------- |\n",
    "| Training         | Training distribution     | Learn model parameters                              |\n",
    "| **Train-Dev**    | Training distribution     | Measure generalization within training distribution |\n",
    "| Dev (Validation) | Real-world or future data | Model tuning, early stopping                        |\n",
    "| Test             | Real-world or future data | Final unbiased performance check                    |\n"
   ]
  },
  {
   "cell_type": "markdown",
   "id": "c02c9aa5-81d6-43c2-87a8-34abc7cd33e3",
   "metadata": {},
   "source": [
    "19. **What can go wrong if you tune hyperparameter using the test set?**\n",
    "| **Problem**                           | **Explanation**                                                                                                                                                                   |\n",
    "| ------------------------------------- | --------------------------------------------------------------------------------------------------------------------------------------------------------------------------------- |\n",
    "| **1. Overfitting to the Test Set**    | By tuning hyperparameters on the test set, you're indirectly \"training\" on it. Your model becomes tailored to that specific test set and may perform poorly on truly unseen data. |\n",
    "| **2. Invalid Performance Estimates**  | The test set no longer provides an unbiased estimate of your model's generalization performance. You can't trust the accuracy, precision, F1, etc., anymore.                      |\n",
    "| **3. Poor Real-World Generalization** | Since the model is tuned to one specific test set, its performance may drop significantly when deployed or evaluated on other real-world data.                                    |\n",
    "| **4. Misleading Model Comparison**    | If multiple models are tuned using the same test set, their performance comparisons become unreliable because the test set is no longer a fair evaluation metric.                 |\n"
   ]
  },
  {
   "cell_type": "markdown",
   "id": "6d1c59c9-988d-4add-b0ba-e736307c2c28",
   "metadata": {},
   "source": [
    "---"
   ]
  },
  {
   "cell_type": "markdown",
   "id": "34837ee8-3d8b-407e-af15-37db58673f85",
   "metadata": {},
   "source": [
    "**the end of chp 1**"
   ]
  },
  {
   "cell_type": "code",
   "execution_count": null,
   "id": "4b846ca2-ffc5-429a-8b41-e4176248600b",
   "metadata": {},
   "outputs": [],
   "source": []
  }
 ],
 "metadata": {
  "kernelspec": {
   "display_name": "Python 3 (ipykernel)",
   "language": "python",
   "name": "python3"
  },
  "language_info": {
   "codemirror_mode": {
    "name": "ipython",
    "version": 3
   },
   "file_extension": ".py",
   "mimetype": "text/x-python",
   "name": "python",
   "nbconvert_exporter": "python",
   "pygments_lexer": "ipython3",
   "version": "3.13.2"
  }
 },
 "nbformat": 4,
 "nbformat_minor": 5
}
